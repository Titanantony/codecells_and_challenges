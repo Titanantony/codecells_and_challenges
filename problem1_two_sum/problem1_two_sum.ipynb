{
 "cells": [
  {
   "cell_type": "markdown",
   "id": "7b8e389e-71b0-4e05-a4b4-a0b1fc6bb88a",
   "metadata": {},
   "source": [
    "# Problem Title: Two Sum\r\n",
    "\r\n",
    "## Problem Description\r\n",
    "(Include the problem description here)\r\n"
   ]
  },
  {
   "cell_type": "markdown",
   "id": "eb9f6f20-553d-45f4-bb69-eb9b37f57115",
   "metadata": {},
   "source": [
    "## Approach\n",
    "(Describe your approach to solving the problem)\n"
   ]
  },
  {
   "cell_type": "code",
   "execution_count": null,
   "id": "edf9a00d-b82d-4225-8da1-1581db96563b",
   "metadata": {},
   "outputs": [],
   "source": [
    "# Solution code\n",
    "def two_sum(nums, target):\n",
    "    num_map = {}\n",
    "    for i, num in enumerate(nums):\n",
    "        complement = target - num\n",
    "        if complement in num_map:\n",
    "            return [num_map[complement], i]\n",
    "        num_map[num] = i\n",
    "    return []\n",
    "\n",
    "# Test cases\n",
    "print(two_sum([2, 7, 11, 15], 9))  # Output: [0, 1]\n"
   ]
  },
  {
   "cell_type": "markdown",
   "id": "c58aa7d1-8663-42de-aa8f-8e6aa9616708",
   "metadata": {},
   "source": [
    "## Explanation\n",
    "(Provide a detailed explanation of your solution, including any edge cases and complexities)\n"
   ]
  }
 ],
 "metadata": {
  "kernelspec": {
   "display_name": "Python 3 (ipykernel)",
   "language": "python",
   "name": "python3"
  },
  "language_info": {
   "codemirror_mode": {
    "name": "ipython",
    "version": 3
   },
   "file_extension": ".py",
   "mimetype": "text/x-python",
   "name": "python",
   "nbconvert_exporter": "python",
   "pygments_lexer": "ipython3",
   "version": "3.12.4"
  }
 },
 "nbformat": 4,
 "nbformat_minor": 5
}

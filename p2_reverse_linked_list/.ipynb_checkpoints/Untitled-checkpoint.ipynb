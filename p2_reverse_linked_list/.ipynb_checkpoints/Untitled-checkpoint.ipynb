{
 "cells": [
  {
   "cell_type": "markdown",
   "id": "6afe2a16-804f-419b-b3c1-1f8285d9a4a0",
   "metadata": {},
   "source": [
    "## Problem Statement\r\n",
    "\r\n",
    "Given the head of a singly linked list, reverse the list, and return the reversed list.\r\n",
    "\r\n",
    "You may implement the solution either iteratively or recursively.\r\n",
    "\r\n",
    "### Example 1:\r\n",
    "- **Input:** `head = [1,2,3,4,5]`\r\n",
    "- **Output:** `[5,4,3,2,1]`\r\n",
    "\r\n",
    "### Example 2:\r\n",
    "- **Input:** `head = [1,2]`\r\n",
    "- **Output:** `[2,1]`\r\n",
    "\r\n",
    "### Example 3:\r\n",
    "- **Input:** `head = []`\r\n",
    "- **Output:** `[]`\r\n",
    "\r\n",
    "### Constraints:\r\n",
    "- The number of nodes in the list is in the range `[0, 5000]`.\r\n",
    "- Each node's value lies within the range `[-5000, 5000]`.\r\n",
    "\r\n",
    "### Follow-up:\r\n",
    "Can you reverse the linked list both iteratively and recursively?\r\n",
    "head = [1,2,3,4,5]\r\n",
    "head = [1,2,3,4,5]\r\n"
   ]
  },
  {
   "cell_type": "markdown",
   "id": "8f0bdc62-d0d6-4cba-b57a-f636bf12d4ea",
   "metadata": {},
   "source": [
    "\n",
    "# Solution"
   ]
  },
  {
   "cell_type": "markdown",
   "id": "491ee63a-9f5f-432e-a9a9-39a8de2eac8b",
   "metadata": {},
   "source": [
    "### Define the ListNode class"
   ]
  },
  {
   "cell_type": "code",
   "execution_count": 9,
   "id": "283515b0-053b-4e14-8268-e446d4103219",
   "metadata": {},
   "outputs": [],
   "source": [
    "\n",
    "class ListNode(object):\n",
    "    def __init__(self, val=0, next=None):\n",
    "        self.val = val\n",
    "        self.next = next"
   ]
  },
  {
   "cell_type": "markdown",
   "id": "3ccb3f90-0946-442b-863b-f36e0bb02a9a",
   "metadata": {},
   "source": [
    "### Function to convert a list to a linked list"
   ]
  },
  {
   "cell_type": "code",
   "execution_count": 10,
   "id": "d9999b4c-0478-4bf1-819d-6c6552d97bbf",
   "metadata": {},
   "outputs": [],
   "source": [
    "def list_to_linkedlist(arr):\n",
    "    if not arr:\n",
    "        return None\n",
    "    head = ListNode(arr[0])\n",
    "    current = head\n",
    "    for value in arr[1:]:\n",
    "        current.next = ListNode(value)\n",
    "        current = current.next\n",
    "    return head\n"
   ]
  },
  {
   "cell_type": "markdown",
   "id": "703bebc2-60ab-4caa-8e29-f757ac1f6610",
   "metadata": {},
   "source": [
    "### Function to convert a linked list to a list"
   ]
  },
  {
   "cell_type": "code",
   "execution_count": 11,
   "id": "f63b8bdd-4aec-427a-9b22-a7e534d9db52",
   "metadata": {},
   "outputs": [],
   "source": [
    "\n",
    "def linkedlist_to_list(head):\n",
    "    arr = []\n",
    "    current = head\n",
    "    while current:\n",
    "        arr.append(current.val)\n",
    "        current = current.next\n",
    "    return arr"
   ]
  },
  {
   "cell_type": "markdown",
   "id": "a190b74d-7f32-4b44-b0b6-505373108cb8",
   "metadata": {},
   "source": [
    "### Solution class with the reverseList function"
   ]
  },
  {
   "cell_type": "code",
   "execution_count": 12,
   "id": "cc5e68be-6d60-4c11-968a-449dcaf101f1",
   "metadata": {},
   "outputs": [],
   "source": [
    "class Solution(object):\n",
    "    def reverseList(self, head):\n",
    "        \"\"\"\n",
    "        :type head: ListNode\n",
    "        :rtype: ListNode\n",
    "        \"\"\"\n",
    "        prev, curr = None, head\n",
    "        while curr is not None:\n",
    "            nxt = curr.next\n",
    "            curr.next = prev\n",
    "            prev = curr\n",
    "            curr = nxt\n",
    "        return prev"
   ]
  },
  {
   "cell_type": "markdown",
   "id": "ed150031-b941-4547-bc11-dc52e445a107",
   "metadata": {},
   "source": [
    "### Test examples"
   ]
  },
  {
   "cell_type": "code",
   "execution_count": 15,
   "id": "db00e6ef-7541-4368-9066-8d4174e4c5e6",
   "metadata": {},
   "outputs": [
    {
     "name": "stdout",
     "output_type": "stream",
     "text": [
      "Example 1 Output: [5, 4, 3, 2, 1]\n",
      "Example 2 Output: [2, 1]\n",
      "Example 3 Output: []\n",
      "Example 4 Output: [21, 14, 7]\n",
      "Example 5 Output: [4]\n"
     ]
    }
   ],
   "source": [
    "# Example 1\n",
    "head = list_to_linkedlist([1, 2, 3, 4, 5])\n",
    "reversed_head = Solution().reverseList(head)\n",
    "print(\"Example 1 Output:\", linkedlist_to_list(reversed_head))  # Expected Output: [5,4,3,2,1]\n",
    "\n",
    "# Example 2\n",
    "head = list_to_linkedlist([1, 2])\n",
    "reversed_head = Solution().reverseList(head)\n",
    "print(\"Example 2 Output:\", linkedlist_to_list(reversed_head))  # Expected Output: [2,1]\n",
    "\n",
    "# Example 3\n",
    "head = list_to_linkedlist([])\n",
    "reversed_head = Solution().reverseList(head)\n",
    "print(\"Example 3 Output:\", linkedlist_to_list(reversed_head))  # Expected Output: []\n",
    "\n",
    "# Example 4\n",
    "head = list_to_linkedlist([7, 14, 21])\n",
    "reversed_head = Solution().reverseList(head)\n",
    "print(\"Example 4 Output:\", linkedlist_to_list(reversed_head))  # Expected Output: [21,14,7]\n",
    "\n",
    "# Example 5\n",
    "head = list_to_linkedlist([4])\n",
    "reversed_head = Solution().reverseList(head)\n",
    "print(\"Example 5 Output:\", linkedlist_to_list(reversed_head))  # Expected Output: [4]\n"
   ]
  },
  {
   "cell_type": "code",
   "execution_count": null,
   "id": "9e30b1da-ed50-4dd8-9c1b-5d46f282d0c4",
   "metadata": {},
   "outputs": [],
   "source": []
  }
 ],
 "metadata": {
  "kernelspec": {
   "display_name": "Python 3 (ipykernel)",
   "language": "python",
   "name": "python3"
  },
  "language_info": {
   "codemirror_mode": {
    "name": "ipython",
    "version": 3
   },
   "file_extension": ".py",
   "mimetype": "text/x-python",
   "name": "python",
   "nbconvert_exporter": "python",
   "pygments_lexer": "ipython3",
   "version": "3.12.4"
  }
 },
 "nbformat": 4,
 "nbformat_minor": 5
}

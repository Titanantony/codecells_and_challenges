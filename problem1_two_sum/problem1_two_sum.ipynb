{
 "cells": [
  {
   "cell_type": "markdown",
   "id": "7b8e389e-71b0-4e05-a4b4-a0b1fc6bb88a",
   "metadata": {
    "jp-MarkdownHeadingCollapsed": true
   },
   "source": [
    "### Problem Statement\r\n",
    "\r\n",
    "Given an array of integers `nums` and an integer `target`, return indices of the two numbers such that they add up to `target`.\r\n",
    "\r\n",
    "You may assume that each input would have exactly one solution, and you may not use the same element twice.\r\n",
    "\r\n",
    "You can return the answer in any order.\r\n",
    "\r\n",
    "#### Example 1:\r\n",
    "- **Input:** `nums = [2,7,11,15]`, `target = 9`\r\n",
    "- **Output:** `[0,1]`\r\n",
    "- **Explanation:** Because `nums[0] + nums[1] == 9`, we return `[0, 1]`.\r\n",
    "\r\n",
    "#### Example 2:\r\n",
    "- **Input:** `nums = [3,2,4]`, `target = 6`\r\n",
    "- **Output:** `[1,2]`\r\n",
    "\r\n",
    "#### Example 3:\r\n",
    "- **Input:** `nums = [3,3]`, `target = 6`\r\n",
    "- **Output:** `[0,1]`\r\n",
    "\r\n",
    "#### Constraints:\r\n",
    "- You can assume that there is exactly one solution.\r\n",
    "- You cannot use the same element twice.\r\n",
    "- The solution can be returned in any order.\r\n",
    "t = 6\r\n",
    "Output: [0,1]e)\r\n"
   ]
  },
  {
   "cell_type": "markdown",
   "id": "eb9f6f20-553d-45f4-bb69-eb9b37f57115",
   "metadata": {},
   "source": [
    "## Approach\n",
    "\n"
   ]
  },
  {
   "cell_type": "code",
   "execution_count": 8,
   "id": "edf9a00d-b82d-4225-8da1-1581db96563b",
   "metadata": {},
   "outputs": [
    {
     "name": "stdout",
     "output_type": "stream",
     "text": [
      "[0, 1]\n",
      "[1, 2]\n",
      "[0, 1]\n"
     ]
    }
   ],
   "source": [
    "# Solution code\n",
    "class Solution(object):\n",
    "    def twoSum(self, nums, target):\n",
    "        \"\"\"\n",
    "        :type nums: List[int]\n",
    "        :type target: int\n",
    "        :rtype: List[int]\n",
    "        \"\"\"\n",
    "        seen = {}\n",
    "        \n",
    "        for i, num in enumerate(nums):\n",
    "            complement = target - num\n",
    "            if complement in seen:\n",
    "                return [seen[complement], i]\n",
    "            seen[num] = i\n",
    "        \n",
    "        return []\n",
    "\n",
    "# Test cases\n",
    "sol = Solution()\n",
    "print(sol.twoSum([2, 7, 11, 15], 9))  # Output: [0, 1]\n",
    "print(sol.twoSum([3, 2, 4], 6))       # Output: [1, 2]\n",
    "print(sol.twoSum([3, 3], 6))          # Output: [0, 1]\n",
    "\n"
   ]
  },
  {
   "cell_type": "markdown",
   "id": "c58aa7d1-8663-42de-aa8f-8e6aa9616708",
   "metadata": {},
   "source": [
    "## Explanation\r\n",
    "\r\n",
    "The solution to the problem involves using a hash map (or dictionary) to store the indices of the elements we have encountered so far. This allows us to check if the complement of the current element (i.e., `target - num`) has already been seen.\r\n",
    "\r\n",
    "### Step-by-Step Explanation:\r\n",
    "\r\n",
    "1. **Initialize a Hash Map:**\r\n",
    "   - We start by initializing an empty dictionary called `seen` where the keys are the numbers from the `nums` array, and the values are their respective indices.\r\n",
    "\r\n",
    "2. **Iterate Over the Array:**\r\n",
    "   - We loop through the array `nums` using `enumerate` to get both the index (`i`) and the value (`num`) at each step.\r\n",
    "\r\n",
    "3. **Calculate Complement:**\r\n",
    "   - For each element in `nums`, we calculate its complement, which is `target - num`.\r\n",
    "\r\n",
    "4. **Check if Complement Exists:**\r\n",
    "   - We then check if this complement is already in the `seen` dictionary. If it is, we have found the two numbers that add up to the `target`, so we return their indices as a list `[seen[complement], i]`.\r\n",
    "\r\n",
    "5. **Store the Current Number:**\r\n",
    "   - If the complement is not found, we store the current number `num` in the `seen` dictionary with its index `i` as the value.\r\n",
    "\r\n",
    "6. **Edge Cases:**\r\n",
    "   - Since the problem guarantees exactly one solution, we do not need to handle cases where no solution exists.\r\n",
    "   - The array contains only integers, and each integer will be considered only once.\r\n",
    "\r\n",
    "### Complexity Analysis:\r\n",
    "\r\n",
    "- **Time Complexity:**\r\n",
    "  - The solution runs in `O(n)` time, where `n` is the number of elements in the array `nums`. This is because we traverse the array once, and the dictionary operations (insert and lookup) are `O(1)` on average.\r\n",
    "\r\n",
    "- **Space Complexity:**\r\n",
    "  - The space complexity is `O(n)` as well, because in the worst case, we may need to store all the elements of the array in the dictionary.\r\n"
   ]
  },
  {
   "cell_type": "code",
   "execution_count": null,
   "id": "99346ced-5976-4fa9-8386-5b6b9a676883",
   "metadata": {},
   "outputs": [],
   "source": []
  }
 ],
 "metadata": {
  "kernelspec": {
   "display_name": "Python 3 (ipykernel)",
   "language": "python",
   "name": "python3"
  },
  "language_info": {
   "codemirror_mode": {
    "name": "ipython",
    "version": 3
   },
   "file_extension": ".py",
   "mimetype": "text/x-python",
   "name": "python",
   "nbconvert_exporter": "python",
   "pygments_lexer": "ipython3",
   "version": "3.12.4"
  }
 },
 "nbformat": 4,
 "nbformat_minor": 5
}
